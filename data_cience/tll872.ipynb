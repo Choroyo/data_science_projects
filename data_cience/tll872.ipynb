{
  "cells": [
    {
      "cell_type": "code",
      "execution_count": null,
      "id": "7847e451-2348-4ff6-966f-8544083d13eb",
      "metadata": {
        "trusted": true
      },
      "outputs": [],
      "source": [
        "myString = \"Welcome to Python Programming\""
      ]
    },
    {
      "cell_type": "code",
      "execution_count": 2,
      "id": "f360d74a-32ee-41cd-b098-03eb6b3a01ec",
      "metadata": {
        "trusted": true
      },
      "outputs": [
        {
          "name": "stdout",
          "output_type": "stream",
          "text": [
            "Welcome to Python Programming\n"
          ]
        }
      ],
      "source": [
        "print(myString)"
      ]
    },
    {
      "cell_type": "code",
      "execution_count": 3,
      "id": "da60ae3b-0a8a-42b5-9293-26bec4521ec1",
      "metadata": {
        "trusted": true
      },
      "outputs": [
        {
          "name": "stdout",
          "output_type": "stream",
          "text": [
            "Python\n"
          ]
        }
      ],
      "source": [
        "print(myString[11:17])"
      ]
    },
    {
      "cell_type": "code",
      "execution_count": 4,
      "id": "3e803ad3-cfb3-4457-baa1-e56bec6c8041",
      "metadata": {
        "trusted": true
      },
      "outputs": [
        {
          "name": "stdout",
          "output_type": "stream",
          "text": [
            "mming\n"
          ]
        }
      ],
      "source": [
        "print(myString[-5:])"
      ]
    },
    {
      "cell_type": "code",
      "execution_count": 5,
      "id": "c85d00ef-af60-409f-95ab-145423af9a3d",
      "metadata": {
        "trusted": true
      },
      "outputs": [],
      "source": [
        "myString += \"!!!\"\n",
        "print(myString)"
      ]
    },
    {
      "cell_type": "code",
      "execution_count": 7,
      "id": "a24773fc-e81f-41f4-b63e-8c0a90cad709",
      "metadata": {
        "trusted": true
      },
      "outputs": [],
      "source": [
        "myList = []"
      ]
    },
    {
      "cell_type": "code",
      "execution_count": 8,
      "id": "20e2f874-f3dc-4cdc-b19c-2e7d92d5b89d",
      "metadata": {
        "trusted": true
      },
      "outputs": [],
      "source": [
        "myList.append(1)\n",
        "myList.append(2)\n",
        "myList.append(3)\n",
        "myList.append(4)\n",
        "print(myList)"
      ]
    },
    {
      "cell_type": "code",
      "execution_count": 9,
      "id": "949cb9c0-88d0-42ff-a250-007816c618ce",
      "metadata": {
        "trusted": true
      },
      "outputs": [
        {
          "name": "stdout",
          "output_type": "stream",
          "text": [
            "[1, 2, 3, 4, (5, 6)]\n"
          ]
        }
      ],
      "source": [
        "myList.append((5,6))\n",
        "print(myList)"
      ]
    },
    {
      "cell_type": "code",
      "execution_count": 10,
      "id": "df5f60c3-6805-4228-be28-6fc3d999191e",
      "metadata": {
        "trusted": true
      },
      "outputs": [
        {
          "name": "stdout",
          "output_type": "stream",
          "text": [
            "[1, 2, 3, 4, (5, 6), ['perfect', 'wonderful']]\n"
          ]
        }
      ],
      "source": [
        "myList.append(['perfect', 'wonderful'])\n",
        "print(myList)"
      ]
    },
    {
      "cell_type": "code",
      "execution_count": 11,
      "id": "2f24f4c5-b250-4ab2-ab0d-124cdc22630d",
      "metadata": {
        "trusted": true
      },
      "outputs": [
        {
          "name": "stdout",
          "output_type": "stream",
          "text": [
            "[1, 2, 3, 4, (5, 6), ['perfect', 'wonderful'], [[7, 8], [9, 10]]]\n"
          ]
        }
      ],
      "source": [
        "myList.append([[7, 8], [9, 10]])\n",
        "print(myList)"
      ]
    },
    {
      "cell_type": "code",
      "execution_count": 12,
      "id": "617bb875-872e-48ca-8400-e2cc6e86be94",
      "metadata": {
        "trusted": true
      },
      "outputs": [
        {
          "name": "stdout",
          "output_type": "stream",
          "text": [
            "[1, 2, 3, 4, (5, 6), ['perfect', 'wonderful'], [[7, 8], [9, 10]], 8.5, 7, 'code', 'software']\n"
          ]
        }
      ],
      "source": [
        "myList.extend((8.5, 7, 'code', 'software'))\n",
        "print(myList)"
      ]
    },
    {
      "cell_type": "code",
      "execution_count": 13,
      "id": "70195a23-7e33-44de-bbca-d06c92b912a7",
      "metadata": {
        "trusted": true
      },
      "outputs": [
        {
          "name": "stdout",
          "output_type": "stream",
          "text": [
            "[[[7, 8], [9, 10]], 8.5, 7, 'code', 'software']\n"
          ]
        }
      ],
      "source": [
        "print(myList[-5:])"
      ]
    },
    {
      "cell_type": "code",
      "execution_count": 14,
      "id": "b56f27c6-1713-4370-a21f-2c0ef60d4250",
      "metadata": {
        "trusted": true
      },
      "outputs": [
        {
          "name": "stdout",
          "output_type": "stream",
          "text": [
            "[1, 2, 3, 8.5, 7, 'code', 'software']\n"
          ]
        }
      ],
      "source": [
        "del myList[3:7]\n",
        "print(myList)"
      ]
    },
    {
      "cell_type": "code",
      "execution_count": 15,
      "id": "0aeafdba-9cc8-4e5a-8a3b-13a0b1911621",
      "metadata": {
        "trusted": true
      },
      "outputs": [
        {
          "name": "stdout",
          "output_type": "stream",
          "text": [
            "(1, 2, 3, 4)\n"
          ]
        }
      ],
      "source": [
        "tuple1 = [1, 2, 3, 4]\n",
        "tuple1 = tuple(tuple1)\n",
        "print(tuple1)"
      ]
    },
    {
      "cell_type": "code",
      "execution_count": 16,
      "id": "f26c390f-8a1f-4964-94d4-ddbae2ec8f10",
      "metadata": {
        "trusted": true
      },
      "outputs": [
        {
          "name": "stdout",
          "output_type": "stream",
          "text": [
            "('Python', 'for', 'kids')\n"
          ]
        }
      ],
      "source": [
        "tuple2 = ('Python', 'for', 'kids')\n",
        "print(tuple2)"
      ]
    },
    {
      "cell_type": "code",
      "execution_count": 17,
      "id": "5a192fe0-111e-4dc0-b3aa-1a1e4a3ddced",
      "metadata": {
        "trusted": true
      },
      "outputs": [
        {
          "name": "stdout",
          "output_type": "stream",
          "text": [
            "(1, 2, 3, 4, 'Python', 'for', 'kids')\n"
          ]
        }
      ],
      "source": [
        "tuple1 += tuple2\n",
        "print(tuple1)"
      ]
    },
    {
      "cell_type": "code",
      "execution_count": 18,
      "id": "278cb706-3a3b-4b67-961b-f26d512c8ff4",
      "metadata": {
        "trusted": true
      },
      "outputs": [
        {
          "name": "stdout",
          "output_type": "stream",
          "text": [
            "(4, 'Python', 'for', 'kids')\n"
          ]
        }
      ],
      "source": [
        "print(tuple1[3:])"
      ]
    },
    {
      "cell_type": "code",
      "execution_count": 19,
      "id": "cc29b944-527f-4d90-8b3d-365b3a6733cb",
      "metadata": {
        "trusted": true
      },
      "outputs": [],
      "source": [
        "myDic = {}"
      ]
    },
    {
      "cell_type": "code",
      "execution_count": 20,
      "id": "e0b34bf2-895b-4fd8-9a57-7152e882fd72",
      "metadata": {
        "trusted": true
      },
      "outputs": [
        {
          "name": "stdout",
          "output_type": "stream",
          "text": [
            "{0: 'Python', 1: 'Programming', 2: 'Funny'}\n"
          ]
        }
      ],
      "source": [
        "myDic.update({0 : 'Python'})\n",
        "myDic.update({1 : 'Programming'})\n",
        "myDic.update({2 : 'Funny'})\n",
        "print(myDic)"
      ]
    },
    {
      "cell_type": "code",
      "execution_count": 21,
      "id": "67018087-56d1-4d15-9c39-e10f3fe190d3",
      "metadata": {
        "trusted": true
      },
      "outputs": [
        {
          "name": "stdout",
          "output_type": "stream",
          "text": [
            "{0: 'Python', 1: 'is very', 2: 'Funny'}\n"
          ]
        }
      ],
      "source": [
        "myDic[1] = 'is very'\n",
        "print(myDic)"
      ]
    },
    {
      "cell_type": "code",
      "execution_count": 22,
      "id": "394d0fe6-b2b7-4f8b-bc23-a8d889257aad",
      "metadata": {
        "trusted": true
      },
      "outputs": [
        {
          "name": "stdout",
          "output_type": "stream",
          "text": [
            "0\n",
            "1\n",
            "2\n"
          ]
        }
      ],
      "source": [
        "for key in myDic:\n",
        "    print(key)"
      ]
    },
    {
      "cell_type": "code",
      "execution_count": 23,
      "id": "9f70bb0d-e159-45d2-8619-e63810791b7e",
      "metadata": {
        "trusted": true
      },
      "outputs": [
        {
          "name": "stdout",
          "output_type": "stream",
          "text": [
            "Python\n",
            "is very\n",
            "Funny\n"
          ]
        }
      ],
      "source": [
        "for key in myDic:\n",
        "    print(myDic[key])"
      ]
    },
    {
      "cell_type": "code",
      "execution_count": 24,
      "id": "a26bb9e5-f4c2-4213-adad-33a0a49790c7",
      "metadata": {
        "trusted": true
      },
      "outputs": [
        {
          "name": "stdout",
          "output_type": "stream",
          "text": [
            "{0: 'Python', 1: 'is very'}\n"
          ]
        }
      ],
      "source": [
        "del myDic[2]\n",
        "print(myDic)"
      ]
    },
    {
      "cell_type": "code",
      "execution_count": 25,
      "id": "13b3f68b-fe6c-46d6-86d0-7b3db75bed2f",
      "metadata": {
        "trusted": true
      },
      "outputs": [
        {
          "ename": "<class 'KeyError'>",
          "evalue": "2",
          "output_type": "error",
          "traceback": [
            "\u001b[0;31m---------------------------------------------------------------------------\u001b[0m",
            "\u001b[0;31mKeyError\u001b[0m                                  Traceback (most recent call last)",
            "Cell \u001b[0;32mIn[25], line 1\u001b[0m\n\u001b[0;32m----> 1\u001b[0m \u001b[38;5;28mprint\u001b[39m(\u001b[43mmyDic\u001b[49m\u001b[43m[\u001b[49m\u001b[38;5;241;43m2\u001b[39;49m\u001b[43m]\u001b[49m)\n",
            "\u001b[0;31mKeyError\u001b[0m: 2"
          ]
        }
      ],
      "source": [
        "print(myDic[2])"
      ]
    },
    {
      "cell_type": "code",
      "execution_count": 26,
      "id": "1fded841-2843-4587-946a-b46b9ab536b3",
      "metadata": {
        "trusted": true
      },
      "outputs": [
        {
          "name": "stdout",
          "output_type": "stream",
          "text": [
            "['Python', 'is very']\n"
          ]
        }
      ],
      "source": [
        "dicList = []\n",
        "for key in myDic:\n",
        "    dicList.append(myDic[key])\n",
        "print(dicList)"
      ]
    }
  ],
  "metadata": {
    "kernelspec": {
      "display_name": "Python (Pyodide)",
      "language": "python",
      "name": "python"
    },
    "language_info": {
      "codemirror_mode": {
        "name": "python",
        "version": 3
      },
      "file_extension": ".py",
      "mimetype": "text/x-python",
      "name": "python",
      "nbconvert_exporter": "python",
      "pygments_lexer": "ipython3",
      "version": "3.8"
    }
  },
  "nbformat": 4,
  "nbformat_minor": 5
}
